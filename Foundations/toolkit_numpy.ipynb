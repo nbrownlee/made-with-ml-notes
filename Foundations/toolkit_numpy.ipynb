{
 "cells": [
  {
   "cell_type": "markdown",
   "metadata": {},
   "source": [
    "# Numpy for Machine Learning"
   ]
  },
  {
   "cell_type": "markdown",
   "metadata": {},
   "source": [
    "## Set up"
   ]
  },
  {
   "cell_type": "code",
   "execution_count": 1,
   "metadata": {},
   "outputs": [],
   "source": [
    "import numpy as np\n",
    "\n",
    "# Set seed for reproducibility\n",
    "np.random.seed(seed=1234)"
   ]
  },
  {
   "cell_type": "markdown",
   "metadata": {},
   "source": [
    "## Basics"
   ]
  },
  {
   "cell_type": "code",
   "execution_count": 2,
   "metadata": {},
   "outputs": [
    {
     "name": "stdout",
     "output_type": "stream",
     "text": [
      "x:  6\n",
      "x ndim:  0\n",
      "x shape:  ()\n",
      "x size:  1\n",
      "x dtype:  int32\n"
     ]
    }
   ],
   "source": [
    "# Scalar\n",
    "x = np.array(6)\n",
    "print(\"x: \", x)\n",
    "print(\"x ndim: \", x.ndim)\n",
    "print(\"x shape: \", x.shape)\n",
    "print(\"x size: \", x.size)\n",
    "print(\"x dtype: \", x.dtype)"
   ]
  },
  {
   "cell_type": "code",
   "execution_count": 3,
   "metadata": {},
   "outputs": [
    {
     "name": "stdout",
     "output_type": "stream",
     "text": [
      "x:  [1.3 2.2 1.7]\n",
      "x ndim:  1\n",
      "x shape:  (3,)\n",
      "x size:  3\n",
      "x dtype:  float64\n"
     ]
    }
   ],
   "source": [
    "# Vector\n",
    "x = np.array([1.3, 2.2, 1.7])\n",
    "print(\"x: \", x)\n",
    "print(\"x ndim: \", x.ndim)\n",
    "print(\"x shape: \", x.shape)\n",
    "print(\"x size: \", x.size)\n",
    "print(\"x dtype: \", x.dtype)"
   ]
  },
  {
   "cell_type": "code",
   "execution_count": 4,
   "metadata": {},
   "outputs": [
    {
     "name": "stdout",
     "output_type": "stream",
     "text": [
      "x:  [[1 2]\n",
      " [3 4]]\n",
      "x ndim:  2\n",
      "x shape:  (2, 2)\n",
      "x size:  4\n",
      "x dtype:  int32\n"
     ]
    }
   ],
   "source": [
    "# Matrix \n",
    "x = np.array([[1,2], [3,4]])\n",
    "print(\"x: \", x)\n",
    "print(\"x ndim: \", x.ndim)\n",
    "print(\"x shape: \", x.shape)\n",
    "print(\"x size: \", x.size)\n",
    "print(\"x dtype: \", x.dtype)"
   ]
  },
  {
   "cell_type": "code",
   "execution_count": 5,
   "metadata": {},
   "outputs": [
    {
     "name": "stdout",
     "output_type": "stream",
     "text": [
      "x:  [[[1 2]\n",
      "  [3 4]]\n",
      "\n",
      " [[5 6]\n",
      "  [7 8]]]\n",
      "x ndim:  3\n",
      "x shape:  (2, 2, 2)\n",
      "x size:  8\n",
      "x dtype:  int32\n"
     ]
    }
   ],
   "source": [
    "# 3-D Tensor\n",
    "x = np.array([[[1, 2], [3, 4]], [[5, 6], [7, 8]]])\n",
    "print(\"x: \", x)\n",
    "print(\"x ndim: \", x.ndim)\n",
    "print(\"x shape: \", x.shape)\n",
    "print(\"x size: \", x.size)\n",
    "print(\"x dtype: \", x.dtype)"
   ]
  },
  {
   "cell_type": "code",
   "execution_count": 6,
   "metadata": {},
   "outputs": [
    {
     "name": "stdout",
     "output_type": "stream",
     "text": [
      "np.zeros((2,2)):\n",
      " [[0. 0.]\n",
      " [0. 0.]]\n",
      "np.ones((2,2)):\n",
      " [[1. 1.]\n",
      " [1. 1.]]\n",
      "np.eye((2)):\n",
      " [[1. 0.]\n",
      " [0. 1.]]\n",
      "np.random.random((2,2)):\n",
      " [[0.19151945 0.62210877]\n",
      " [0.43772774 0.78535858]]\n"
     ]
    }
   ],
   "source": [
    "# Functions\n",
    "print(\"np.zeros((2,2)):\\n\", np.zeros((2,2)))\n",
    "print(\"np.ones((2,2)):\\n\", np.ones((2,2)))\n",
    "# Identity matrix\n",
    "print(\"np.eye((2)):\\n\", np.eye((2)))\n",
    "print(\"np.random.random((2,2)):\\n\", np.random.random((2,2)))"
   ]
  },
  {
   "cell_type": "markdown",
   "metadata": {},
   "source": [
    "## Indexing"
   ]
  },
  {
   "cell_type": "code",
   "execution_count": 7,
   "metadata": {},
   "outputs": [
    {
     "name": "stdout",
     "output_type": "stream",
     "text": [
      "x:  [1 2 3]\n",
      "x[0]:  1\n",
      "x:  [0 2 3]\n"
     ]
    }
   ],
   "source": [
    "# Indexing\n",
    "x = np.array([1,2,3])\n",
    "print(\"x: \", x)\n",
    "print(\"x[0]: \", x[0])\n",
    "x[0] = 0\n",
    "print(\"x: \", x)"
   ]
  },
  {
   "cell_type": "code",
   "execution_count": 8,
   "metadata": {},
   "outputs": [
    {
     "name": "stdout",
     "output_type": "stream",
     "text": [
      "[[ 1  2  3  4]\n",
      " [ 5  6  7  8]\n",
      " [ 9 10 11 12]]\n",
      "x column 1:  [ 2  6 10]\n",
      "x row 0:  [1 2 3 4]\n",
      "x rows 0,1 & cols 1,2: \n",
      " [[2 3]\n",
      " [6 7]]\n"
     ]
    }
   ],
   "source": [
    "# Slicing\n",
    "x = np.array([[1,2,3,4], [5,6,7,8], [9,10,11,12]])\n",
    "print(x)\n",
    "print(\"x column 1: \", x[:, 1])\n",
    "print(\"x row 0: \", x[0, :])\n",
    "print(\"x rows 0,1 & cols 1,2: \\n\", x[0:2, 1:3])"
   ]
  },
  {
   "cell_type": "code",
   "execution_count": 9,
   "metadata": {},
   "outputs": [
    {
     "name": "stdout",
     "output_type": "stream",
     "text": [
      "[[ 1  2  3  4]\n",
      " [ 5  6  7  8]\n",
      " [ 9 10 11 12]]\n",
      "rows_to_get:  [0 1 2]\n",
      "cols_to_get:  [0 2 1]\n",
      "indexed values:  [ 1  7 10]\n"
     ]
    }
   ],
   "source": [
    "# Integer array indexing\n",
    "print(x)\n",
    "rows_to_get = np.array([0, 1, 2])\n",
    "print(\"rows_to_get: \", rows_to_get)\n",
    "cols_to_get = np.array([0, 2, 1])\n",
    "print(\"cols_to_get: \", cols_to_get)\n",
    "# Combine above sequences to get values\n",
    "print(\"indexed values: \", x[rows_to_get, cols_to_get])\n"
   ]
  },
  {
   "cell_type": "code",
   "execution_count": 10,
   "metadata": {},
   "outputs": [
    {
     "name": "stdout",
     "output_type": "stream",
     "text": [
      "x:\n",
      " [[1 2]\n",
      " [3 4]\n",
      " [5 6]]\n",
      "x > 2:\n",
      " [[False False]\n",
      " [ True  True]\n",
      " [ True  True]]\n",
      "x[x > 2]:\n",
      " [3 4 5 6]\n"
     ]
    }
   ],
   "source": [
    "# Boolean array indexing\n",
    "x = np.array([[1, 2], [3, 4], [5, 6]])\n",
    "print(\"x:\\n\", x)\n",
    "print(\"x > 2:\\n\", x > 2)\n",
    "print(\"x[x > 2]:\\n\", x[x>2])"
   ]
  },
  {
   "cell_type": "markdown",
   "metadata": {},
   "source": [
    "## Arithmetic"
   ]
  },
  {
   "cell_type": "code",
   "execution_count": 11,
   "metadata": {},
   "outputs": [
    {
     "name": "stdout",
     "output_type": "stream",
     "text": [
      "x + y:\n",
      " [[2. 4.]\n",
      " [6. 8.]]\n",
      "x - y:\n",
      " [[0. 0.]\n",
      " [0. 0.]]\n",
      "x * y:\n",
      " [[ 1.  4.]\n",
      " [ 9. 16.]]\n"
     ]
    }
   ],
   "source": [
    "# Basic math\n",
    "x = np.array([[1, 2], [3, 4]], dtype=np.float64)\n",
    "y = np.array([[1, 2], [3, 4]], dtype=np.float64)\n",
    "print(\"x + y:\\n\", np.add(x, y)) # or x + y\n",
    "print(\"x - y:\\n\", np.subtract(x, y)) # or x - y\n",
    "print(\"x * y:\\n\", np.multiply(x, y)) # or x * y"
   ]
  },
  {
   "cell_type": "markdown",
   "metadata": {},
   "source": [
    "## Dot product\n",
    "\n",
    "One of the most common NumPy operations is matrix multiplication using the dot product."
   ]
  },
  {
   "cell_type": "code",
   "execution_count": 12,
   "metadata": {},
   "outputs": [
    {
     "name": "stdout",
     "output_type": "stream",
     "text": [
      "(2, 3) . (3, 2) = (2, 2)\n",
      "[[ 58.  64.]\n",
      " [139. 154.]]\n"
     ]
    }
   ],
   "source": [
    "# Dot product\n",
    "a = np.array([[1, 2, 3], [4, 5, 6]], dtype=np.float64)\n",
    "b = np.array([[7,8], [9, 10], [11,12]], dtype=np.float64)\n",
    "c = a.dot(b)\n",
    "print(f\"{a.shape} . {b.shape} = {c.shape}\")\n",
    "print(c)"
   ]
  },
  {
   "cell_type": "markdown",
   "metadata": {},
   "source": [
    "## Axis operations\n",
    "We can also do operations across a specific axis"
   ]
  },
  {
   "cell_type": "code",
   "execution_count": 13,
   "metadata": {},
   "outputs": [
    {
     "name": "stdout",
     "output_type": "stream",
     "text": [
      "[[1 2]\n",
      " [3 4]]\n",
      "sum all:  10\n",
      "sum axis=0:  [4 6]\n",
      "sum axis=1:  [3 7]\n"
     ]
    }
   ],
   "source": [
    "# Sum across a dimension\n",
    "x = np.array([[1, 2], [3, 4]])\n",
    "print(x)\n",
    "print(\"sum all: \", np.sum(x)) # adds all elements\n",
    "print(\"sum axis=0: \", np.sum(x, axis=0)) # sum across rows\n",
    "print(\"sum axis=1: \", np.sum(x, axis=1)) # sum across cols"
   ]
  },
  {
   "cell_type": "code",
   "execution_count": 14,
   "metadata": {},
   "outputs": [
    {
     "name": "stdout",
     "output_type": "stream",
     "text": [
      "min:  1\n",
      "max:  6\n",
      "min axis=0:  [1 2 3]\n",
      "min axis=1:  [1 4]\n"
     ]
    },
    {
     "ename": "NameError",
     "evalue": "name 'z' is not defined",
     "output_type": "error",
     "traceback": [
      "\u001b[1;31m---------------------------------------------------------------------------\u001b[0m",
      "\u001b[1;31mNameError\u001b[0m                                 Traceback (most recent call last)",
      "\u001b[1;32mc:\\Users\\nbrow\\mlops\\Foundations\\toolkit_numpy.ipynb Cell 21'\u001b[0m in \u001b[0;36m<cell line: 7>\u001b[1;34m()\u001b[0m\n\u001b[0;32m      <a href='vscode-notebook-cell:/c%3A/Users/nbrow/mlops/Foundations/toolkit_numpy.ipynb#ch0000020?line=4'>5</a>\u001b[0m \u001b[39mprint\u001b[39m(\u001b[39m\"\u001b[39m\u001b[39mmin axis=0: \u001b[39m\u001b[39m\"\u001b[39m, x\u001b[39m.\u001b[39mmin(axis\u001b[39m=\u001b[39m\u001b[39m0\u001b[39m))\n\u001b[0;32m      <a href='vscode-notebook-cell:/c%3A/Users/nbrow/mlops/Foundations/toolkit_numpy.ipynb#ch0000020?line=5'>6</a>\u001b[0m \u001b[39mprint\u001b[39m(\u001b[39m\"\u001b[39m\u001b[39mmin axis=1: \u001b[39m\u001b[39m\"\u001b[39m, x\u001b[39m.\u001b[39mmin(axis\u001b[39m=\u001b[39m\u001b[39m1\u001b[39m))\n\u001b[1;32m----> <a href='vscode-notebook-cell:/c%3A/Users/nbrow/mlops/Foundations/toolkit_numpy.ipynb#ch0000020?line=6'>7</a>\u001b[0m z\n",
      "\u001b[1;31mNameError\u001b[0m: name 'z' is not defined"
     ]
    }
   ],
   "source": [
    "# Min/max\n",
    "x = np.array([[1, 2, 3], [4, 5, 6]])\n",
    "print(\"min: \", x.min())\n",
    "print(\"max: \", x.max())\n",
    "print(\"min axis=0: \", x.min(axis=0))\n",
    "print(\"min axis=1: \", x.min(axis=1))\n",
    "z"
   ]
  },
  {
   "cell_type": "markdown",
   "metadata": {},
   "source": [
    "## Broadcast"
   ]
  },
  {
   "cell_type": "code",
   "execution_count": null,
   "metadata": {},
   "outputs": [],
   "source": [
    "# Broadcasting\n",
    "x = np.array([1,2]) # vector\n",
    "y = np.array(3) # scalar\n",
    "z = x + y\n",
    "print(\"z:\\n\", z)"
   ]
  },
  {
   "cell_type": "markdown",
   "metadata": {},
   "source": [
    "## Gotchas"
   ]
  },
  {
   "cell_type": "code",
   "execution_count": null,
   "metadata": {},
   "outputs": [],
   "source": [
    "# What is the value of c and what are its dimensions?\n",
    "a = np.array((3, 4, 5))\n",
    "b = np.expand_dims(a, axis=1)\n",
    "c = a + b\n",
    "a.shape\n",
    "b.shape\n",
    "c.shape\n",
    "print(c)"
   ]
  },
  {
   "cell_type": "code",
   "execution_count": null,
   "metadata": {},
   "outputs": [],
   "source": [
    "# How do we fix this? We need to be careful to ensure that a is the same shape\n",
    "# as b if we don't want this unintentional broadcasting behavior\n",
    "a = a.reshape(-1, 1)\n",
    "a.shape # (3, 1)\n",
    "c = a + b\n",
    "c.shape # (3, 1)\n",
    "print(c)"
   ]
  },
  {
   "cell_type": "code",
   "execution_count": null,
   "metadata": {},
   "outputs": [],
   "source": [
    "# Apply proper reshaping before using it for any operations\n",
    "a = np.array([3, 4, 5])\n",
    "a.shape # (3, )\n",
    "a = a.reshape(-1, 1)\n",
    "a.shape # (3, 1)"
   ]
  },
  {
   "cell_type": "markdown",
   "metadata": {},
   "source": [
    "## Transpose"
   ]
  },
  {
   "cell_type": "code",
   "execution_count": null,
   "metadata": {},
   "outputs": [],
   "source": [
    "# Transposing\n",
    "x = np.array([[1, 2, 3], [4, 5, 6]])\n",
    "print(\"x:\\n\", x)\n",
    "print(\"x.shape: \", x.shape)\n",
    "y = np.transpose(x, (1, 0)) # flip dimensions at index 0 and 1\n",
    "print(\"y:\\n\", y)\n",
    "print(\"y.shape: \", y.shape)"
   ]
  },
  {
   "cell_type": "markdown",
   "metadata": {},
   "source": [
    "## Reshape\n",
    "Sometimes we'll need to alter dimensions of the matrix. Reshaping allows us to transform a tensor into different permissible shapes."
   ]
  },
  {
   "cell_type": "code",
   "execution_count": null,
   "metadata": {},
   "outputs": [],
   "source": [
    "# Reshaping\n",
    "x = np.array([[1, 2, 3, 4, 5, 6]])\n",
    "print(x)\n",
    "print(\"x.shape: \", x.shape)\n",
    "y = np.reshape(x, (2, 3))\n",
    "print(\"y: \\n\", y)\n",
    "print(\"y.shape: \", y.shape)\n",
    "z = np.reshape(x, (2, -1))\n",
    "print(\"z: \\n\", z)\n",
    "print(\"z.shape: \", z.shape)"
   ]
  },
  {
   "cell_type": "markdown",
   "metadata": {},
   "source": [
    "## Joining"
   ]
  },
  {
   "cell_type": "code",
   "execution_count": null,
   "metadata": {},
   "outputs": [],
   "source": [
    "x = np.random.random((2, 3))\n",
    "print(x)\n",
    "print(x.shape)"
   ]
  },
  {
   "cell_type": "code",
   "execution_count": null,
   "metadata": {},
   "outputs": [],
   "source": [
    "# Concatenation\n",
    "y = np.concatenate([x, x], axis=0) # Concat on a specified axis\n",
    "print(y)\n",
    "print(y.shape)\n",
    "\n",
    "# Stacking\n",
    "z = np.stack([x, x], axis=0) # Stack on new axis\n",
    "print(z)\n",
    "print(z.shape)"
   ]
  },
  {
   "cell_type": "markdown",
   "metadata": {},
   "source": [
    "## Expanding/reducing"
   ]
  },
  {
   "cell_type": "code",
   "execution_count": null,
   "metadata": {},
   "outputs": [],
   "source": [
    "# Adding dimensions\n",
    "x = np.array([[1, 2, 3], [4, 5, 6]])\n",
    "print(\"x: \\n\", x)\n",
    "print(\"x.shape: \", x.shape)\n",
    "y = np.expand_dims(x, 1) # expand dim 1\n",
    "print(\"y: \\n\", y)\n",
    "print(\"y.shape: \", y.shape) # notice extra set of brackets"
   ]
  }
 ],
 "metadata": {
  "interpreter": {
   "hash": "3ceb5eff0b673c808c9c8a6cf1a12079e8502e84183dbcbb7d10a9c54b53184d"
  },
  "kernelspec": {
   "display_name": "Python 3.10.0 ('venv': venv)",
   "language": "python",
   "name": "python3"
  },
  "language_info": {
   "codemirror_mode": {
    "name": "ipython",
    "version": 3
   },
   "file_extension": ".py",
   "mimetype": "text/x-python",
   "name": "python",
   "nbconvert_exporter": "python",
   "pygments_lexer": "ipython3",
   "version": "3.10.0"
  },
  "orig_nbformat": 4
 },
 "nbformat": 4,
 "nbformat_minor": 2
}
